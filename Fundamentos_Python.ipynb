{
  "nbformat": 4,
  "nbformat_minor": 0,
  "metadata": {
    "colab": {
      "provenance": [],
      "authorship_tag": "ABX9TyOVVwxyxN5SbejwlDHhFmVI",
      "include_colab_link": true
    },
    "kernelspec": {
      "name": "python3",
      "display_name": "Python 3"
    },
    "language_info": {
      "name": "python"
    }
  },
  "cells": [
    {
      "cell_type": "markdown",
      "metadata": {
        "id": "view-in-github",
        "colab_type": "text"
      },
      "source": [
        "<a href=\"https://colab.research.google.com/github/YaritzaEscobar/PrograIII_2024_semi/blob/main/Fundamentos_Python.ipynb\" target=\"_parent\"><img src=\"https://colab.research.google.com/assets/colab-badge.svg\" alt=\"Open In Colab\"/></a>"
      ]
    },
    {
      "cell_type": "markdown",
      "source": [
        "Usando funciones lambda"
      ],
      "metadata": {
        "id": "TS5FeihU8mrw"
      }
    },
    {
      "cell_type": "code",
      "source": [
        "elevarCuadradoLambda = lambda base, exponente: base**exponente\n",
        "\n",
        "valor = int(input(\"Num: \"))\n",
        "print(\"Cuadrado: \", elevarCuadradoLambda (valor, 2))"
      ],
      "metadata": {
        "colab": {
          "base_uri": "https://localhost:8080/"
        },
        "id": "m-sXLgG28_5C",
        "outputId": "beb9a929-a170-4d54-af77-0560751f17aa"
      },
      "execution_count": null,
      "outputs": [
        {
          "output_type": "stream",
          "name": "stdout",
          "text": [
            "Num: 100\n",
            "Cuadrado:  10000\n"
          ]
        }
      ]
    },
    {
      "cell_type": "code",
      "source": [
        "serie = [5,4,3,2,6,7]\n",
        "resp = map(lambda x: x**2, serie)\n",
        "print(list(resp))\n",
        "\n",
        "#resp2 = map(elevarCuadrado, serie)\n",
        "#print(list(resp2))\n",
        "\n"
      ],
      "metadata": {
        "colab": {
          "base_uri": "https://localhost:8080/",
          "height": 211
        },
        "id": "C7iOeHJ-_y1b",
        "outputId": "2d3c33b1-26e2-4e49-8e26-3181bff041a3"
      },
      "execution_count": null,
      "outputs": [
        {
          "output_type": "stream",
          "name": "stdout",
          "text": [
            "[25, 16, 9, 4, 36, 49]\n"
          ]
        },
        {
          "output_type": "error",
          "ename": "TypeError",
          "evalue": "elevarCuadrado() missing 1 required positional argument: 'exponente'",
          "traceback": [
            "\u001b[0;31m---------------------------------------------------------------------------\u001b[0m",
            "\u001b[0;31mTypeError\u001b[0m                                 Traceback (most recent call last)",
            "\u001b[0;32m<ipython-input-22-e616eb49aaea>\u001b[0m in \u001b[0;36m<cell line: 6>\u001b[0;34m()\u001b[0m\n\u001b[1;32m      4\u001b[0m \u001b[0;34m\u001b[0m\u001b[0m\n\u001b[1;32m      5\u001b[0m \u001b[0mresp2\u001b[0m \u001b[0;34m=\u001b[0m \u001b[0mmap\u001b[0m\u001b[0;34m(\u001b[0m\u001b[0melevarCuadrado\u001b[0m\u001b[0;34m,\u001b[0m \u001b[0mserie\u001b[0m\u001b[0;34m)\u001b[0m\u001b[0;34m\u001b[0m\u001b[0;34m\u001b[0m\u001b[0m\n\u001b[0;32m----> 6\u001b[0;31m \u001b[0mprint\u001b[0m\u001b[0;34m(\u001b[0m\u001b[0mlist\u001b[0m\u001b[0;34m(\u001b[0m\u001b[0mresp2\u001b[0m\u001b[0;34m)\u001b[0m\u001b[0;34m)\u001b[0m\u001b[0;34m\u001b[0m\u001b[0;34m\u001b[0m\u001b[0m\n\u001b[0m\u001b[1;32m      7\u001b[0m \u001b[0;34m\u001b[0m\u001b[0m\n",
            "\u001b[0;31mTypeError\u001b[0m: elevarCuadrado() missing 1 required positional argument: 'exponente'"
          ]
        }
      ]
    },
    {
      "cell_type": "markdown",
      "source": [
        "Ejercicio: obtener la raiz cuadrada de una serie de numeros fijos."
      ],
      "metadata": {
        "id": "LFXBRp1ODJ5k"
      }
    },
    {
      "cell_type": "code",
      "source": [
        "\n",
        "\n",
        "def raiz_cuadrada(num):\n",
        "    return num ** 0.5\n",
        "serie = [16, 9, 81, 144]\n",
        "resp = map(raiz_cuadrada, serie)\n",
        "print(list(resp))\n",
        "\n",
        "resp2 = map(lambda x: x ** 0.5, serie)\n",
        "print(list(resp2))\n",
        "\n"
      ],
      "metadata": {
        "colab": {
          "base_uri": "https://localhost:8080/"
        },
        "id": "ZWRtwrVyDcCj",
        "outputId": "e3484e8c-8af5-4f1c-fd47-b1740044b591"
      },
      "execution_count": null,
      "outputs": [
        {
          "output_type": "stream",
          "name": "stdout",
          "text": [
            "[4.0, 3.0, 9.0, 12.0]\n",
            "[4.0, 3.0, 9.0, 12.0]\n"
          ]
        }
      ]
    },
    {
      "cell_type": "code",
      "source": [
        "print(\"Hola Mundo\")\n",
        "nombre = \"Yaritza Jiménez\"\n",
        "\n",
        "print(\"Hola \", nombre, \", inicial: \", nombre[0], nombre[5])"
      ],
      "metadata": {
        "colab": {
          "base_uri": "https://localhost:8080/"
        },
        "id": "gSty4v2U6sl4",
        "outputId": "73243678-a50e-4143-ea35-2ac11eb818b8"
      },
      "execution_count": null,
      "outputs": [
        {
          "output_type": "stream",
          "name": "stdout",
          "text": [
            "Hola Mundo\n",
            "Hola  Yaritza Jiménez , inicial:  Y z\n"
          ]
        }
      ]
    },
    {
      "cell_type": "markdown",
      "source": [
        "EJERCICIO: Crear un programa en python que sume dos numeros"
      ],
      "metadata": {
        "id": "uoO8mNMZ7h4x"
      }
    },
    {
      "cell_type": "code",
      "source": [
        "num1 = 5\n",
        "num2 = 9.5\n",
        "resp = num1 + num2\n",
        "print(\"La suma es: \", resp)"
      ],
      "metadata": {
        "colab": {
          "base_uri": "https://localhost:8080/"
        },
        "id": "OygzNCfV7owg",
        "outputId": "6b6cb079-3421-44e1-e0df-f9d8edf424e4"
      },
      "execution_count": null,
      "outputs": [
        {
          "output_type": "stream",
          "name": "stdout",
          "text": [
            "La suma es:  14.5\n"
          ]
        }
      ]
    },
    {
      "cell_type": "markdown",
      "source": [
        "EJERCICIO: Crear un programa en python que sume dos numeros introducidos por el usuario"
      ],
      "metadata": {
        "id": "hJro2MNn7vK8"
      }
    },
    {
      "cell_type": "code",
      "source": [
        "print(\"Num 1\")\n",
        "num1 = int(input())\n",
        "\n",
        "print(\"Num 2\")\n",
        "num2 = float(input())\n",
        "\n",
        "resp = num1 + num2\n",
        "print(\"La suma es: \", resp)\n"
      ],
      "metadata": {
        "colab": {
          "base_uri": "https://localhost:8080/"
        },
        "id": "2SJH3hzs8yiA",
        "outputId": "8b362c42-dc9f-4533-d49c-8c1a7788b847"
      },
      "execution_count": null,
      "outputs": [
        {
          "output_type": "stream",
          "name": "stdout",
          "text": [
            "Num 1\n",
            "5\n",
            "Num 2\n",
            "5\n",
            "La suma es:  10.0\n"
          ]
        }
      ]
    },
    {
      "cell_type": "code",
      "source": [
        "#Tipos de datos\n",
        "num1 = 5 #entero\n",
        "num2 = 5.9 #decimal\n",
        "nombre = \"Yarit Escobar\" #cadenas\n",
        "print(nombre, nombre[0:4], nombre[:4], nombre[-1], nombre[5:len(nombre)])\n",
        "\n",
        "estado = True\n",
        "print(estado)\n",
        "\n",
        "print(type(nombre), type(num1), type(num2), type(estado) )"
      ],
      "metadata": {
        "colab": {
          "base_uri": "https://localhost:8080/"
        },
        "id": "YoHSceuV9Ir4",
        "outputId": "28bd67e3-cb82-4eb9-bda8-5a8df959e26c"
      },
      "execution_count": null,
      "outputs": [
        {
          "output_type": "stream",
          "name": "stdout",
          "text": [
            "Yarit Escobar Yari Yari r  Escobar\n",
            "True\n",
            "<class 'str'> <class 'int'> <class 'float'> <class 'bool'>\n"
          ]
        }
      ]
    },
    {
      "cell_type": "markdown",
      "source": [
        "EJERCICIO: Cree un programa en python que lea un numero y determine si es par o impar."
      ],
      "metadata": {
        "id": "cl_vO_ns9ZSQ"
      }
    },
    {
      "cell_type": "code",
      "source": [
        "num = int(input(\"ingrese un numero:\"))\n",
        "if num % 2 == 0:\n",
        "  print(\"El numero es par\", num)\n",
        "else:\n",
        "  print(\"El numero es impar\")"
      ],
      "metadata": {
        "colab": {
          "base_uri": "https://localhost:8080/"
        },
        "id": "W-PpW1Un9c5s",
        "outputId": "804c0fc2-2edb-441e-ffef-f1e4eab44078"
      },
      "execution_count": null,
      "outputs": [
        {
          "output_type": "stream",
          "name": "stdout",
          "text": [
            "ingrese un numero:8\n",
            "El numero es par 8\n"
          ]
        }
      ]
    },
    {
      "cell_type": "markdown",
      "source": [
        "EJERCICIO: Uso de las funciones de usuario, con la suma de dos numeros."
      ],
      "metadata": {
        "id": "6Fl2VjEP9tDD"
      }
    },
    {
      "cell_type": "code",
      "source": [
        "def suma(num1, num2):\n",
        "  return num1 + num2\n",
        "\n",
        "\n",
        "num1 = float(input(\"Num 1: \"))\n",
        "num2 = float(input(\"Num 2: \"))\n",
        "\n",
        "resp = suma(num1, num2)\n",
        "print(\"La suma es: \", resp)"
      ],
      "metadata": {
        "colab": {
          "base_uri": "https://localhost:8080/"
        },
        "id": "33fz-CkW9u7w",
        "outputId": "8240ee8f-66c7-4d3b-9790-4d85972abad9"
      },
      "execution_count": null,
      "outputs": [
        {
          "output_type": "stream",
          "name": "stdout",
          "text": [
            "Num 1: 4\n",
            "Num 2: 3\n",
            "La suma es:  7.0\n"
          ]
        }
      ]
    },
    {
      "cell_type": "markdown",
      "source": [
        "EJERCICIO: Coonvertir grados celsius a farenheit, usando funciones de usuario."
      ],
      "metadata": {
        "id": "Wh7blWoY-Hks"
      }
    },
    {
      "cell_type": "code",
      "source": [
        "def convertir_cf(c):\n",
        "  return c*1.8 + 32\n",
        "\n",
        "\n",
        "c = float(input(\"Celsius: \"))\n",
        "print(\"F: \", convertir_cf(c))"
      ],
      "metadata": {
        "colab": {
          "base_uri": "https://localhost:8080/"
        },
        "id": "QrRTubP7-LA6",
        "outputId": "162b4331-86e3-4d77-a0a3-9b6631976467"
      },
      "execution_count": null,
      "outputs": [
        {
          "output_type": "stream",
          "name": "stdout",
          "text": [
            "Celsius: 33\n",
            "F:  91.4\n"
          ]
        }
      ]
    },
    {
      "cell_type": "markdown",
      "source": [
        "EJERCICIO: Calcular el sueldo de un trabajador."
      ],
      "metadata": {
        "id": "UFeBt3IW-aqC"
      }
    },
    {
      "cell_type": "code",
      "source": [
        "def sueldo(numHrs, valorXHrs):\n",
        "  sueldo = numHrs * valorXHrs * 30 # 10*1.5*30 = 450\n",
        "  if(numHrs>8):\n",
        "    sueldo = sueldo + (numHrs-8) * valorXHrs * 30 # 2*1.5*30 = 90\n",
        "  return sueldo\n",
        "\n",
        "\n",
        "numHrs = int(input(\"Horas: \"))\n",
        "valorXHrs = float(input(\"Valor: \"))\n",
        "\n",
        "print(\"Sueldo: \", sueldo(numHrs, valorXHrs))"
      ],
      "metadata": {
        "colab": {
          "base_uri": "https://localhost:8080/"
        },
        "id": "byMGJjQ3-cCQ",
        "outputId": "3426b247-6115-4754-d66c-8ba7240995ee"
      },
      "execution_count": null,
      "outputs": [
        {
          "output_type": "stream",
          "name": "stdout",
          "text": [
            "Horas: 10\n",
            "Valor: 1.5\n",
            "Sueldo:  540.0\n"
          ]
        }
      ]
    },
    {
      "cell_type": "markdown",
      "source": [
        "EJERCICIO: elevar un numero al cuadrado."
      ],
      "metadata": {
        "id": "3sy5ZyhY-nU6"
      }
    },
    {
      "cell_type": "code",
      "source": [
        "def elevarCuadrado(base=0, exponente=2):\n",
        "  return base**exponente\n",
        "\n",
        "\n",
        "num = int(input(\"Num: \"))\n",
        "print(\"Cuadrado: \", elevarCuadrado(num, 3))"
      ],
      "metadata": {
        "colab": {
          "base_uri": "https://localhost:8080/"
        },
        "id": "Qw5Xac_R-omY",
        "outputId": "80ccf283-0309-4aa2-da47-d720123cedc7"
      },
      "execution_count": null,
      "outputs": [
        {
          "output_type": "stream",
          "name": "stdout",
          "text": [
            "Num: 8\n",
            "Cuadrado:  512\n"
          ]
        }
      ]
    },
    {
      "cell_type": "markdown",
      "source": [
        "Estructuras de control"
      ],
      "metadata": {
        "id": "TcXy6c7EFwa9"
      }
    },
    {
      "cell_type": "markdown",
      "source": [
        "Ejercicio: solicitar al usuario la edad y determinar su clasificación"
      ],
      "metadata": {
        "id": "j24pSo9qGJTa"
      }
    },
    {
      "cell_type": "code",
      "source": [
        "edad = int(input(\"Edad: \"))\n",
        "if edad>17:\n",
        " print(\"Ya tienes responsabilidades\")\n"
      ],
      "metadata": {
        "colab": {
          "base_uri": "https://localhost:8080/"
        },
        "id": "3a8wlP4PF6FL",
        "outputId": "d8d11aa2-34ff-4cc6-8f16-8d9e18713211"
      },
      "execution_count": null,
      "outputs": [
        {
          "output_type": "stream",
          "name": "stdout",
          "text": [
            "Edad: 18\n",
            "Ya tienes responsabilidades\n"
          ]
        }
      ]
    },
    {
      "cell_type": "code",
      "source": [
        "\n",
        "continuar = \"s\"\n",
        "while continuar== \"s\":\n",
        "  edad = int(input(\"Edad: \"))\n",
        "if (edad<0):\n",
        "  print(\"No edad correcta\")\n",
        "if edad<=2:\n",
        "  print(\"Eres un bebe\")\n",
        "elif edad<=12:\n",
        "    print(\"Eres un niño\")\n",
        "elif edad<18:\n",
        "    print(\"Eres un adolescente\")\n",
        "elif edad<65:\n",
        "  print(\"Eres un adulto joven\")\n",
        "elif edad<85:\n",
        "  print(\"Eres un adulto\")\n",
        "\n",
        "elif edad>=85:\n",
        "  print(\"Eres un adulto mayor\")\n",
        "else:\n",
        "  print(\"larga vida\")\n",
        "\n",
        "continuar = input(\"Continuar s, sino cualquier letra: \")"
      ],
      "metadata": {
        "colab": {
          "base_uri": "https://localhost:8080/",
          "height": 373
        },
        "id": "kbLicG8SHbyU",
        "outputId": "510e04e4-9e0f-4bb7-c87d-3e29acb80be8"
      },
      "execution_count": null,
      "outputs": [
        {
          "name": "stdout",
          "output_type": "stream",
          "text": [
            "Edad: -2\n"
          ]
        },
        {
          "output_type": "error",
          "ename": "KeyboardInterrupt",
          "evalue": "Interrupted by user",
          "traceback": [
            "\u001b[0;31m---------------------------------------------------------------------------\u001b[0m",
            "\u001b[0;31mKeyboardInterrupt\u001b[0m                         Traceback (most recent call last)",
            "\u001b[0;32m<ipython-input-15-75eb2b743af6>\u001b[0m in \u001b[0;36m<cell line: 2>\u001b[0;34m()\u001b[0m\n\u001b[1;32m      1\u001b[0m \u001b[0mcontinuar\u001b[0m \u001b[0;34m=\u001b[0m \u001b[0;34m\"s\"\u001b[0m\u001b[0;34m\u001b[0m\u001b[0;34m\u001b[0m\u001b[0m\n\u001b[1;32m      2\u001b[0m \u001b[0;32mwhile\u001b[0m \u001b[0mcontinuar\u001b[0m\u001b[0;34m==\u001b[0m \u001b[0;34m\"s\"\u001b[0m\u001b[0;34m:\u001b[0m\u001b[0;34m\u001b[0m\u001b[0;34m\u001b[0m\u001b[0m\n\u001b[0;32m----> 3\u001b[0;31m   \u001b[0medad\u001b[0m \u001b[0;34m=\u001b[0m \u001b[0mint\u001b[0m\u001b[0;34m(\u001b[0m\u001b[0minput\u001b[0m\u001b[0;34m(\u001b[0m\u001b[0;34m\"Edad: \"\u001b[0m\u001b[0;34m)\u001b[0m\u001b[0;34m)\u001b[0m\u001b[0;34m\u001b[0m\u001b[0;34m\u001b[0m\u001b[0m\n\u001b[0m\u001b[1;32m      4\u001b[0m \u001b[0;32mif\u001b[0m \u001b[0;34m(\u001b[0m\u001b[0medad\u001b[0m\u001b[0;34m<\u001b[0m\u001b[0;36m0\u001b[0m\u001b[0;34m)\u001b[0m\u001b[0;34m:\u001b[0m\u001b[0;34m\u001b[0m\u001b[0;34m\u001b[0m\u001b[0m\n\u001b[1;32m      5\u001b[0m   \u001b[0mprint\u001b[0m\u001b[0;34m(\u001b[0m\u001b[0;34m\"No edad correcta\"\u001b[0m\u001b[0;34m)\u001b[0m\u001b[0;34m\u001b[0m\u001b[0;34m\u001b[0m\u001b[0m\n",
            "\u001b[0;32m/usr/local/lib/python3.10/dist-packages/ipykernel/kernelbase.py\u001b[0m in \u001b[0;36mraw_input\u001b[0;34m(self, prompt)\u001b[0m\n\u001b[1;32m    849\u001b[0m                 \u001b[0;34m\"raw_input was called, but this frontend does not support input requests.\"\u001b[0m\u001b[0;34m\u001b[0m\u001b[0;34m\u001b[0m\u001b[0m\n\u001b[1;32m    850\u001b[0m             )\n\u001b[0;32m--> 851\u001b[0;31m         return self._input_request(str(prompt),\n\u001b[0m\u001b[1;32m    852\u001b[0m             \u001b[0mself\u001b[0m\u001b[0;34m.\u001b[0m\u001b[0m_parent_ident\u001b[0m\u001b[0;34m,\u001b[0m\u001b[0;34m\u001b[0m\u001b[0;34m\u001b[0m\u001b[0m\n\u001b[1;32m    853\u001b[0m             \u001b[0mself\u001b[0m\u001b[0;34m.\u001b[0m\u001b[0m_parent_header\u001b[0m\u001b[0;34m,\u001b[0m\u001b[0;34m\u001b[0m\u001b[0;34m\u001b[0m\u001b[0m\n",
            "\u001b[0;32m/usr/local/lib/python3.10/dist-packages/ipykernel/kernelbase.py\u001b[0m in \u001b[0;36m_input_request\u001b[0;34m(self, prompt, ident, parent, password)\u001b[0m\n\u001b[1;32m    893\u001b[0m             \u001b[0;32mexcept\u001b[0m \u001b[0mKeyboardInterrupt\u001b[0m\u001b[0;34m:\u001b[0m\u001b[0;34m\u001b[0m\u001b[0;34m\u001b[0m\u001b[0m\n\u001b[1;32m    894\u001b[0m                 \u001b[0;31m# re-raise KeyboardInterrupt, to truncate traceback\u001b[0m\u001b[0;34m\u001b[0m\u001b[0;34m\u001b[0m\u001b[0m\n\u001b[0;32m--> 895\u001b[0;31m                 \u001b[0;32mraise\u001b[0m \u001b[0mKeyboardInterrupt\u001b[0m\u001b[0;34m(\u001b[0m\u001b[0;34m\"Interrupted by user\"\u001b[0m\u001b[0;34m)\u001b[0m \u001b[0;32mfrom\u001b[0m \u001b[0;32mNone\u001b[0m\u001b[0;34m\u001b[0m\u001b[0;34m\u001b[0m\u001b[0m\n\u001b[0m\u001b[1;32m    896\u001b[0m             \u001b[0;32mexcept\u001b[0m \u001b[0mException\u001b[0m \u001b[0;32mas\u001b[0m \u001b[0me\u001b[0m\u001b[0;34m:\u001b[0m\u001b[0;34m\u001b[0m\u001b[0;34m\u001b[0m\u001b[0m\n\u001b[1;32m    897\u001b[0m                 \u001b[0mself\u001b[0m\u001b[0;34m.\u001b[0m\u001b[0mlog\u001b[0m\u001b[0;34m.\u001b[0m\u001b[0mwarning\u001b[0m\u001b[0;34m(\u001b[0m\u001b[0;34m\"Invalid Message:\"\u001b[0m\u001b[0;34m,\u001b[0m \u001b[0mexc_info\u001b[0m\u001b[0;34m=\u001b[0m\u001b[0;32mTrue\u001b[0m\u001b[0;34m)\u001b[0m\u001b[0;34m\u001b[0m\u001b[0;34m\u001b[0m\u001b[0m\n",
            "\u001b[0;31mKeyboardInterrupt\u001b[0m: Interrupted by user"
          ]
        }
      ]
    },
    {
      "cell_type": "markdown",
      "source": [
        "Ejercicio: Solicitar un número al usuario y determinar si es positivo o negativo"
      ],
      "metadata": {
        "id": "zDIYNRt9KLZO"
      }
    },
    {
      "cell_type": "code",
      "source": [
        "num=int(input(\"Num:\"))\n",
        "if num>0:\n",
        "  print(\"Positivo\")\n",
        "else:\n",
        "    print(\"Negativo\")"
      ],
      "metadata": {
        "colab": {
          "base_uri": "https://localhost:8080/"
        },
        "id": "cN1uDf0vKW3M",
        "outputId": "626eeb56-995f-4dae-c682-4e875a3f6ba0"
      },
      "execution_count": null,
      "outputs": [
        {
          "output_type": "stream",
          "name": "stdout",
          "text": [
            "Num:60\n",
            "Positivo\n"
          ]
        }
      ]
    },
    {
      "cell_type": "markdown",
      "source": [
        "TAREA DE PYTHON----- Miercoles 21-08-24"
      ],
      "metadata": {
        "id": "ndnWkBAzxzAE"
      }
    },
    {
      "cell_type": "markdown",
      "source": [
        "1- Calcular sobre el sueldo las deducciones por ley ISSS (3%), AFP(6.25%), ISR(Según tabla) e imprima el total deducciones y sueldo neto."
      ],
      "metadata": {
        "id": "z0EUESHIybsh"
      }
    },
    {
      "cell_type": "code",
      "source": [
        "def calcular_deducciones(sueldo_bruto):\n",
        "    # Deducciones porcentuales\n",
        "    isss_porcentaje = 0.03\n",
        "    afp_porcentaje = 0.0625\n",
        "\n",
        "    # Calcular deducciones por ley\n",
        "    isss = sueldo_bruto * isss_porcentaje\n",
        "    afp = sueldo_bruto * afp_porcentaje\n",
        "\n",
        "    # Tabla de ISR ficticia (rango de ingresos, tasa de impuesto)\n",
        "    tabla_isr = [\n",
        "        (0, 0.0),\n",
        "        (500, 0.1),\n",
        "        (1000, 0.15),\n",
        "        (2000, 0.20),\n",
        "        (3000, 0.25)\n",
        "    ]\n",
        "\n",
        "    # Calcular ISR según la tabla\n",
        "    isr = 0\n",
        "    for i in range(1, len(tabla_isr)):\n",
        "        if sueldo_bruto > tabla_isr[i][0]:\n",
        "            isr += (tabla_isr[i][0] - tabla_isr[i - 1][0]) * tabla_isr[i][1]\n",
        "        else:\n",
        "            isr += (sueldo_bruto - tabla_isr[i - 1][0]) * tabla_isr[i][1]\n",
        "            break\n",
        "\n",
        "    # Calcular total de deducciones\n",
        "    total_deducciones = isss + afp + isr\n",
        "\n",
        "    # Calcular sueldo neto\n",
        "    sueldo_neto = sueldo_bruto - total_deducciones\n",
        "\n",
        "    return isss, afp, isr, total_deducciones, sueldo_neto\n",
        "\n",
        "# Obtener sueldo bruto del usuario\n",
        "sueldo_bruto = float(input(\"Ingrese el sueldo: \"))\n",
        "\n",
        "# Calcular deducciones y sueldo neto\n",
        "isss, afp, isr, total_deducciones, sueldo_neto = calcular_deducciones(sueldo_bruto)\n",
        "\n",
        "# Mostrar resultados\n",
        "print(f\"Deducciones por ley:\")\n",
        "print(f\"ISSS: ${isss:.2f}\")\n",
        "print(f\"AFP: ${afp:.2f}\")\n",
        "print(f\"ISR: ${isr:.2f}\")\n",
        "print(f\"Total Deducciones: ${total_deducciones:.2f}\")\n",
        "print(f\"Sueldo Neto: ${sueldo_neto:.2f}\")"
      ],
      "metadata": {
        "id": "bPia70gnClj7",
        "colab": {
          "base_uri": "https://localhost:8080/"
        },
        "outputId": "4b30161c-305d-478e-eb19-cecd76f32537"
      },
      "execution_count": null,
      "outputs": [
        {
          "output_type": "stream",
          "name": "stdout",
          "text": [
            "Ingrese el sueldo: 512.14\n",
            "Deducciones por ley:\n",
            "ISSS: $15.36\n",
            "AFP: $32.01\n",
            "ISR: $51.82\n",
            "Total Deducciones: $99.19\n",
            "Sueldo Neto: $412.95\n"
          ]
        }
      ]
    },
    {
      "cell_type": "markdown",
      "source": [
        "2- Calcular el valor a pagar según el número de metros consumidos de agua potable"
      ],
      "metadata": {
        "id": "fwRHTJyHyJmZ"
      }
    },
    {
      "cell_type": "code",
      "source": [
        "def calcular_tarifa_agua(metros_consumidos):\n",
        "    if metros_consumidos <= 0:\n",
        "        return \"No se puede calcular con un valor negativo o cero.\"\n",
        "    elif metros_consumidos <= 18:\n",
        "        return 6.00\n",
        "    elif 19 <= metros_consumidos <= 28:\n",
        "        return 6.00 + (metros_consumidos - 18) * 0.45\n",
        "    else:\n",
        "        return 6.00 + (28 - 18) * 0.45 + (metros_consumidos - 28) * 0.65\n",
        "\n",
        "# Solicitar al usuario el número de metros consumidos\n",
        "try:\n",
        "    metros_consumidos = float(input(\"Ingresa el número de metros de agua consumidos: \"))\n",
        "    tarifa = calcular_tarifa_agua(metros_consumidos)\n",
        "\n",
        "    if isinstance(tarifa, str):\n",
        "        print(tarifa)\n",
        "    else:\n",
        "        print(f\"El total del valor a pagar es: ${tarifa:.2f}\")\n",
        "\n",
        "except ValueError:\n",
        "    print(\"Por favor, ingresa un número válido.\")\n",
        "\n",
        "\n"
      ],
      "metadata": {
        "colab": {
          "base_uri": "https://localhost:8080/"
        },
        "id": "E50k7aNfANjj",
        "outputId": "72d56137-e277-4bd1-931b-6ebcbc5974d1"
      },
      "execution_count": null,
      "outputs": [
        {
          "output_type": "stream",
          "name": "stdout",
          "text": [
            "Ingresa el número de metros de agua consumidos: 18.5\n",
            "El total del valor a pagar es: $4.33\n"
          ]
        }
      ]
    },
    {
      "cell_type": "markdown",
      "source": [
        "3- Desarrolle la tabla de meses acumulados a n meses. Si puede encontrar la fórmula matemática para evitar ciclos."
      ],
      "metadata": {
        "id": "ohKc1fQUCrdE"
      }
    },
    {
      "cell_type": "code",
      "source": [
        "#meses acumulados con ciclo\n",
        "def meses_acumulados(n):\n",
        "    return [(i * (i + 1)) // 2 for i in range(1, n + 1)]\n",
        "\n",
        "while True:\n",
        "    try:\n",
        "        n = int(input(\"Ingresa el número de meses para calcular la tabla acumulada: \"))\n",
        "        if n > 0:\n",
        "            break\n",
        "        else:\n",
        "            print(\"Por favor, ingresa un número positivo.\")\n",
        "    except ValueError:\n",
        "        print(\"Por favor, ingresa un número entero válido.\")\n",
        "\n",
        "tabla_acumulada = meses_acumulados(n)\n",
        "\n",
        "print(f\"\\nTabla de meses acumulados para {n} meses:\")\n",
        "for i, valor in enumerate(tabla_acumulada, start=1):\n",
        "    print(f\"Mes {i}: {valor}\")\n"
      ],
      "metadata": {
        "colab": {
          "base_uri": "https://localhost:8080/"
        },
        "id": "as9ZMuizCwtj",
        "outputId": "9ac5e468-2731-41a7-d561-d4f5469dfa62"
      },
      "execution_count": null,
      "outputs": [
        {
          "output_type": "stream",
          "name": "stdout",
          "text": [
            "Ingresa el número de meses para calcular la tabla acumulada: 2\n",
            "\n",
            "Tabla de meses acumulados para 2 meses:\n",
            "Mes 1: 1\n",
            "Mes 2: 3\n"
          ]
        }
      ]
    },
    {
      "cell_type": "markdown",
      "source": [
        "4- Conversores: (40%) (10 ítems como mínimo por cada uno) • Monedas (Resuelto en clases) • Longitud • Masa • Almacenamiento • Tiempo • Volumen • Área • Manzanas • Tareas"
      ],
      "metadata": {
        "id": "OkpRKhzcy2hU"
      }
    },
    {
      "cell_type": "code",
      "source": [
        "#Longitud\n",
        "def convertir_longitud(valor, unidad_origen, unidad_destino):\n",
        "    unidades = {\n",
        "        'metros': 1.0,\n",
        "        'kilometros': 1000.0,\n",
        "        'centimetros': 0.01,\n",
        "        'milimetros': 0.001,\n",
        "        'micrometros': 1e-6,\n",
        "        'nanometros': 1e-9,\n",
        "        'millas': 1609.34,\n",
        "        'yardas': 0.9144,\n",
        "        'pies': 0.3048,\n",
        "        'pulgadas': 0.0254,\n",
        "    }\n",
        "\n",
        "    try:\n",
        "        factor_origen = unidades[unidad_origen]\n",
        "        factor_destino = unidades[unidad_destino]\n",
        "        return valor * factor_origen / factor_destino\n",
        "    except KeyError:\n",
        "        raise ValueError(\"Unidad de origen o destino no reconocida.\")\n",
        "\n",
        "def es_flotante(valor):\n",
        "    try:\n",
        "        float(valor)\n",
        "        return True\n",
        "    except ValueError:\n",
        "        return False\n",
        "\n",
        "def es_alfabetico(texto):\n",
        "    return bool(re.match(\"^[a-zA-Z]+$\", texto))\n",
        "\n",
        "try:\n",
        "    # Validación solo numeros\n",
        "    valor_input = input(\"Ingrese el valor a convertir: \")\n",
        "    if not es_flotante(valor_input):\n",
        "        raise ValueError(\"Debe ingresar numeros válidos.\")\n",
        "    valor = float(valor_input)\n",
        "\n",
        "    # Validación escribir letras, no numeros\n",
        "    unidad_origen = input(\"Digite la unidad de origen: \").strip().lower()\n",
        "    if not es_alfabetico(unidad_origen):\n",
        "        raise ValueError(\"La unidad de origen debe contener solo letras.\")\n",
        "\n",
        "    unidad_destino = input(\"Digite la unidad de destino: \").strip().lower()\n",
        "    if not es_alfabetico(unidad_destino):\n",
        "        raise ValueError(\"La unidad de destino debe contener solo letras.\")\n",
        "\n",
        "    resultado = convertir_longitud(valor, unidad_origen, unidad_destino)\n",
        "    print(f\"{valor} {unidad_origen} son {resultado} {unidad_destino}\")\n",
        "\n",
        "except ValueError as e:\n",
        "    print(f\"Error: {e}\")\n"
      ],
      "metadata": {
        "colab": {
          "base_uri": "https://localhost:8080/"
        },
        "id": "9iAoVMShR2nc",
        "outputId": "c094c12f-090a-48c4-c62f-7c7cdd2b3443"
      },
      "execution_count": null,
      "outputs": [
        {
          "output_type": "stream",
          "name": "stdout",
          "text": [
            "Ingrese el valor a convertir: 80\n",
            "Digite la unidad de origen: yardas\n",
            "Digite la unidad de destino: pulgadas\n",
            "80.0 yardas son 2880.0 pulgadas\n"
          ]
        }
      ]
    },
    {
      "cell_type": "code",
      "source": [
        "#almacenamiento\n",
        "def convertir_almacenamiento(valor, unidad_origen, unidad_destino):\n",
        "    unidades = {\n",
        "        'byte': 1,\n",
        "        'kilobyte': 0.001,\n",
        "        'megabyte': 0.000001,\n",
        "        'gigabyte': 0.000000001,\n",
        "        'terabyte': 0.000000000001,\n",
        "        'petabyte': 0.000000000000001,\n",
        "        'exabyte': 0.000000000000000001,\n",
        "        'zettabyte': 0.000000000000000000001,\n",
        "        'yottabyte': 0.000000000000000000000001,\n",
        "        'bit': 0.125\n",
        "    }\n",
        "\n",
        "    try:\n",
        "        factor_origen = unidades[unidad_origen]\n",
        "        factor_destino = unidades[unidad_destino]\n",
        "        return valor * factor_origen / factor_destino\n",
        "    except KeyError:\n",
        "        raise ValueError(\"Unidad de origen o destino no reconocida.\")\n",
        "\n",
        "def es_flotante(valor):\n",
        "    try:\n",
        "        float(valor)\n",
        "        return True\n",
        "    except ValueError:\n",
        "        return False\n",
        "\n",
        "def es_alfabetico(texto):\n",
        "    return bool(re.match(\"^[a-zA-Z]+$\", texto))\n",
        "\n",
        "try:\n",
        "    # Validación del valor como número flotante\n",
        "    valor_input = input(\"Ingrese el valor a convertir: \")\n",
        "    if not es_flotante(valor_input):\n",
        "        raise ValueError(\"Debe ingresar un número válido.\")\n",
        "    valor = float(valor_input)\n",
        "\n",
        "    # Validación de las unidades como texto sin números\n",
        "    unidad_origen = input(\"Digite la unidad de origen: \").strip().lower()\n",
        "    if not es_alfabetico(unidad_origen):\n",
        "        raise ValueError(\"La unidad de origen debe contener solo letras.\")\n",
        "\n",
        "    unidad_destino = input(\"Digite la unidad de destino: \").strip().lower()\n",
        "    if not es_alfabetico(unidad_destino):\n",
        "        raise ValueError(\"La unidad de destino debe contener solo letras.\")\n",
        "\n",
        "    resultado = convertir_almacenamiento(valor, unidad_origen, unidad_destino)\n",
        "    print(f\"{valor} {unidad_origen} son {resultado} {unidad_destino}\")\n",
        "\n",
        "except ValueError as e:\n",
        "    print(f\"Error: {e}\")\n"
      ],
      "metadata": {
        "colab": {
          "base_uri": "https://localhost:8080/"
        },
        "id": "p1w5wQNQVwep",
        "outputId": "779cd0ac-dd85-4ac8-9976-49811315452b"
      },
      "execution_count": null,
      "outputs": [
        {
          "output_type": "stream",
          "name": "stdout",
          "text": [
            "Ingrese el valor a convertir: 500\n",
            "Digite la unidad de origen: byte\n",
            "Digite la unidad de destino: bit\n",
            "500.0 byte son 4000.0 bit\n"
          ]
        }
      ]
    },
    {
      "cell_type": "code",
      "source": [
        "#MONEDAS\n",
        "import re\n",
        "\n",
        "def convertir_moneda(valor, moneda_origen, moneda_destino):\n",
        "    tasas_de_cambio = {\n",
        "        'dolar': 1,\n",
        "        'euro': 0.92,\n",
        "        'quetzal': 7.86,\n",
        "        'lempira': 24.62,\n",
        "        'cordoba': 36.56,\n",
        "        'colonsv': 8.75,\n",
        "        'coloncr': 535.14,\n",
        "        'yenes': 145.52,\n",
        "        'rupias indias': 83.32,\n",
        "        'libras esterlinas': 0.79,\n",
        "    }\n",
        "\n",
        "    try:\n",
        "        tasa_origen = tasas_de_cambio[moneda_origen]\n",
        "        tasa_destino = tasas_de_cambio[moneda_destino]\n",
        "        return valor * (tasa_origen / tasa_destino)\n",
        "    except KeyError:\n",
        "        raise ValueError(\"Moneda de origen o destino no reconocida.\")\n",
        "\n",
        "def es_flotante(valor):\n",
        "    try:\n",
        "        float(valor)\n",
        "        return True\n",
        "    except ValueError:\n",
        "        return False\n",
        "\n",
        "def es_alfabetico(texto):\n",
        "    return bool(re.match(\"^[a-zA-Z\\s]+$\", texto))\n",
        "\n",
        "try:\n",
        "    # Validación del valor como número flotante\n",
        "    valor_input = input(\"Ingrese el valor a convertir: \")\n",
        "    if not es_flotante(valor_input):\n",
        "        raise ValueError(\"Debe ingresar un número válido.\")\n",
        "    valor = float(valor_input)\n",
        "\n",
        "    # Validación de las monedas como texto sin números\n",
        "    moneda_origen = input(\"Ingrese la moneda de origen: \").strip().lower()\n",
        "    if not es_alfabetico(moneda_origen):\n",
        "        raise ValueError(\"La moneda de origen debe contener solo letras y espacios.\")\n",
        "\n",
        "    moneda_destino = input(\"Ingrese la moneda de destino: \").strip().lower()\n",
        "    if not es_alfabetico(moneda_destino):\n",
        "        raise ValueError(\"La moneda de destino debe contener solo letras y espacios.\")\n",
        "\n",
        "    resultado = convertir_moneda(valor, moneda_origen, moneda_destino)\n",
        "    print(f\"{valor} {moneda_destino} son {resultado:.2f} {moneda_origen}\")\n",
        "\n",
        "except ValueError as e:\n",
        "    print(f\"Error: {e}\")\n"
      ],
      "metadata": {
        "colab": {
          "base_uri": "https://localhost:8080/"
        },
        "id": "wggirWRaiY63",
        "outputId": "cee49fdd-d92c-401e-b2b8-a1692bf1948b"
      },
      "execution_count": null,
      "outputs": [
        {
          "output_type": "stream",
          "name": "stdout",
          "text": [
            "Ingrese el valor a convertir: 400\n",
            "Ingrese la moneda de origen: euro\n",
            "Ingrese la moneda de destino: quetzal\n",
            "400.0 quetzal son 46.82 euro\n"
          ]
        }
      ]
    },
    {
      "cell_type": "code",
      "source": [
        "#Masa\n",
        "#{1, 0.453592, 453.592, 0.000453592, 453592, 453600000, 0.000446429, 0.0005, 0.0714286, 16}, //Masa\n",
        "def convertir_masa(valor, unidad_origen, unidad_destino):\n",
        "    unidades_de_masa = {\n",
        "        'libra': 1,\n",
        "        'kilogramo': 0.453592,\n",
        "        'gramo': 453.592,\n",
        "        'tonelada': 0.000453592,\n",
        "        'miligramo': 453592,\n",
        "        'microgramo': 453600000,\n",
        "        'tonelada larga': 0.000446429,\n",
        "        'tonelada corta': 0.0005,\n",
        "        'stone': 0.0714286,\n",
        "        'onza': 16\n",
        "    }\n",
        "\n",
        "    try:\n",
        "        tasa_origen_a_destino = unidades_de_masa[unidad_destino] / unidades_de_masa[unidad_origen]\n",
        "        resultado = valor * tasa_origen_a_destino\n",
        "        return round(resultado, 2)\n",
        "    except KeyError:\n",
        "        raise ValueError(\"Unidad de origen o destino no reconocida.\")\n",
        "\n",
        "def es_flotante(valor):\n",
        "    try:\n",
        "        float(valor)\n",
        "        return True\n",
        "    except ValueError:\n",
        "        return False\n",
        "\n",
        "def es_alfabetico(texto):\n",
        "    return bool(re.match(\"^[a-zA-Z\\s]+$\", texto))\n",
        "\n",
        "try:\n",
        "    # Validación del valor como número flotante\n",
        "    valor_input = input(\"Ingrese el valor a convertir: \")\n",
        "    if not es_flotante(valor_input):\n",
        "        raise ValueError(\"Debe ingresar un número válido.\")\n",
        "    valor = float(valor_input)\n",
        "\n",
        "    # Validación de las unidades como texto sin números\n",
        "    unidad_origen = input(\"Ingrese la unidad de origen: \").strip().lower()\n",
        "    if not es_alfabetico(unidad_origen):\n",
        "        raise ValueError(\"La unidad de origen debe contener solo letras.\")\n",
        "\n",
        "    unidad_destino = input(\"Ingrese la unidad de destino: \").strip().lower()\n",
        "    if not es_alfabetico(unidad_destino):\n",
        "        raise ValueError(\"La unidad de destino debe contener solo letras.\")\n",
        "\n",
        "    resultado = convertir_masa(valor, unidad_origen, unidad_destino)\n",
        "    print(f\"{valor} {unidad_origen} son {resultado} {unidad_destino}\")\n",
        "\n",
        "except ValueError as e:\n",
        "    print(f\"Error: {e}\")\n"
      ],
      "metadata": {
        "colab": {
          "base_uri": "https://localhost:8080/"
        },
        "id": "vDi0STb6UPu2",
        "outputId": "4c4e0334-07f1-4635-babf-17cfb2a43034"
      },
      "execution_count": null,
      "outputs": [
        {
          "output_type": "stream",
          "name": "stdout",
          "text": [
            "Ingrese el valor a convertir: 2.4\n",
            "Ingrese la unidad de origen: libra\n",
            "Ingrese la unidad de destino: onza\n",
            "2.4 libra son 38.4 onza\n"
          ]
        }
      ]
    },
    {
      "cell_type": "code",
      "source": [
        "#Volumen\n",
        "#{1, 0.264172, 1.05669, 2.11338, 4.16667, 33.814, 67.628, 202.884, 0.001, 1000},\n",
        "def convertir_volumen(valor, unidad_origen, unidad_destino):\n",
        "    unidades_de_volumen = {\n",
        "        'litro': 1,\n",
        "        'galon usa': 0.264172,\n",
        "        'cuarto usa': 1.05669,\n",
        "        'pinta usa': 2.11338,\n",
        "        'taza usa': 4.16667,\n",
        "        'onza liquida': 33.814,\n",
        "        'cuchara usa':67.628 ,\n",
        "        'cucharadita usa': 202.884,\n",
        "        'metro cubico': 0.001,\n",
        "        'milimetro': 1000\n",
        "    }\n",
        "\n",
        "    try:\n",
        "        tasa_origen_a_destino = unidades_de_volumen[unidad_destino] / unidades_de_volumen[unidad_origen]\n",
        "        resultado = valor * tasa_origen_a_destino\n",
        "        return round(resultado, 2)\n",
        "    except KeyError:\n",
        "        raise ValueError(\"Unidad de origen o destino no reconocida.\")\n",
        "\n",
        "def es_flotante(valor):\n",
        "    try:\n",
        "        float(valor)\n",
        "        return True\n",
        "    except ValueError:\n",
        "        return False\n",
        "\n",
        "def es_alfabetico(texto):\n",
        "    return bool(re.match(\"^[a-zA-Z\\s]+$\", texto))\n",
        "\n",
        "try:\n",
        "    # Validación del valor como número flotante\n",
        "    valor_input = input(\"Ingrese el valor a convertir: \")\n",
        "    if not es_flotante(valor_input):\n",
        "        raise ValueError(\"Debe ingresar un número válido.\")\n",
        "    valor = float(valor_input)\n",
        "\n",
        "    # Validación de las unidades como texto sin números\n",
        "    unidad_origen = input(\"Ingrese la unidad de origen: \").strip().lower()\n",
        "    if not es_alfabetico(unidad_origen):\n",
        "        raise ValueError(\"La unidad de origen debe contener solo letras.\")\n",
        "\n",
        "    unidad_destino = input(\"Ingrese la unidad de destino: \").strip().lower()\n",
        "    if not es_alfabetico(unidad_destino):\n",
        "        raise ValueError(\"La unidad de destino debe contener solo letras.\")\n",
        "\n",
        "    resultado = convertir_volumen(valor, unidad_origen, unidad_destino)\n",
        "    print(f\"{valor} {unidad_origen} son {resultado} {unidad_destino}\")\n",
        "\n",
        "except ValueError as e:\n",
        "    print(f\"Error: {e}\")"
      ],
      "metadata": {
        "colab": {
          "base_uri": "https://localhost:8080/"
        },
        "id": "sSQhOSxRcVJf",
        "outputId": "fcbf73c9-bcb2-4f4a-968e-2acfbd432af9"
      },
      "execution_count": null,
      "outputs": [
        {
          "output_type": "stream",
          "name": "stdout",
          "text": [
            "Ingrese el valor a convertir: 400\n",
            "Ingrese la unidad de origen: metro cubico\n",
            "Ingrese la unidad de destino: litro\n",
            "400.0 metro cubico son 400000.0 litro\n"
          ]
        }
      ]
    },
    {
      "cell_type": "code",
      "source": [
        "#tiempo\n",
        "# {1, 60, 0.0166667, 0.000694444, 0.000099206, 0.000022831, 0.0000019026, 0.00000019026, 0.00000001903, 60000}, //Tiempo,\n",
        "def convertir_tiempo(valor, unidad_origen, unidad_destino):\n",
        "    unidades_de_tiempo = {\n",
        "        'minuto': 1,\n",
        "        'segundo': 60,\n",
        "        'hora': 0.0166667,\n",
        "        'dia': 0.000694444,\n",
        "        'semana': 0.000099206,\n",
        "        'mes': 0.000022831,\n",
        "        'año':0.0000019026 ,\n",
        "        'decada': 0.00000001903,\n",
        "        'siglo': 0.00000001903,\n",
        "        'milisegundo': 60000\n",
        "    }\n",
        "\n",
        "    try:\n",
        "        tasa_origen_a_destino = unidades_de_tiempo[unidad_destino] / unidades_de_tiempo[unidad_origen]\n",
        "        resultado = valor * tasa_origen_a_destino\n",
        "        return round(resultado, 2)\n",
        "    except KeyError:\n",
        "        raise ValueError(\"Unidad de origen o destino no reconocida.\")\n",
        "\n",
        "def es_flotante(valor):\n",
        "    try:\n",
        "        float(valor)\n",
        "        return True\n",
        "    except ValueError:\n",
        "        return False\n",
        "\n",
        "def es_alfabetico(texto):\n",
        "    return bool(re.match(\"^[a-zA-Z\\s]+$\", texto))\n",
        "\n",
        "try:\n",
        "    # Validación del valor como número flotante\n",
        "    valor_input = input(\"Ingrese el valor a convertir: \")\n",
        "    if not es_flotante(valor_input):\n",
        "        raise ValueError(\"Debe ingresar un número válido.\")\n",
        "    valor = float(valor_input)\n",
        "\n",
        "    # Validación de las unidades como texto sin números\n",
        "    unidad_origen = input(\"Ingrese la unidad de origen: \").strip().lower()\n",
        "    if not es_alfabetico(unidad_origen):\n",
        "        raise ValueError(\"La unidad de origen debe contener solo letras.\")\n",
        "\n",
        "    unidad_destino = input(\"Ingrese la unidad de destino: \").strip().lower()\n",
        "    if not es_alfabetico(unidad_destino):\n",
        "        raise ValueError(\"La unidad de destino debe contener solo letras.\")\n",
        "\n",
        "    resultado = convertir_tiempo(valor, unidad_origen, unidad_destino)\n",
        "    print(f\"{valor} {unidad_origen} son {resultado} {unidad_destino}\")\n",
        "\n",
        "except ValueError as e:\n",
        "    print(f\"Error: {e}\")"
      ],
      "metadata": {
        "colab": {
          "base_uri": "https://localhost:8080/"
        },
        "id": "PLce7tVZcVAF",
        "outputId": "b6fb565f-e13d-4464-ad43-b23e811caa78"
      },
      "execution_count": null,
      "outputs": [
        {
          "output_type": "stream",
          "name": "stdout",
          "text": [
            "Ingrese el valor a convertir: 4000\n",
            "Ingrese la unidad de origen: milisegundo\n",
            "Ingrese la unidad de destino: minuto\n",
            "4000.0 milisegundo son 0.07 minuto\n"
          ]
        }
      ]
    },
    {
      "cell_type": "code",
      "source": [
        "#Area\n",
        "def convertir_area(valor, unidad_origen, unidad_destino):\n",
        "    unidades_de_area = {\n",
        "        'manzanas': 1,\n",
        "        'tareas': 16,\n",
        "        'metro cuadrado': 7000,\n",
        "        'vara cuadrada': 10000,\n",
        "        'yarda cuadrada':  8371.93,\n",
        "        'pie cuadrado': 75.207,\n",
        "        'hectareas': 0.70,\n",
        "        'acre':1.729738,\n",
        "        'milla cuadrada': 0.002702715,\n",
        "        'pie cuadrado': 75347.37\n",
        "    }\n",
        "\n",
        "    try:\n",
        "        tasa_origen_a_destino = unidades_de_area[unidad_destino] / unidades_de_area[unidad_origen]\n",
        "        resultado = valor * tasa_origen_a_destino\n",
        "        return round(resultado, 2)\n",
        "    except KeyError:\n",
        "        raise ValueError(\"Unidad de origen o destino no reconocida.\")\n",
        "\n",
        "def es_flotante(valor):\n",
        "    try:\n",
        "        float(valor)\n",
        "        return True\n",
        "    except ValueError:\n",
        "        return False\n",
        "\n",
        "def es_alfabetico(texto):\n",
        "    return bool(re.match(\"^[a-zA-Z\\s]+$\", texto))\n",
        "\n",
        "try:\n",
        "    # Validación del valor como número flotante\n",
        "    valor_input = input(\"Ingrese el valor a convertir: \")\n",
        "    if not es_flotante(valor_input):\n",
        "        raise ValueError(\"Debe ingresar un número válido.\")\n",
        "    valor = float(valor_input)\n",
        "\n",
        "    # Validación de las unidades como texto sin números\n",
        "    unidad_origen = input(\"Ingrese la unidad de origen: \").strip().lower()\n",
        "    if not es_alfabetico(unidad_origen):\n",
        "        raise ValueError(\"La unidad de origen debe contener solo letras.\")\n",
        "\n",
        "    unidad_destino = input(\"Ingrese la unidad de destino: \").strip().lower()\n",
        "    if not es_alfabetico(unidad_destino):\n",
        "        raise ValueError(\"La unidad de destino debe contener solo letras.\")\n",
        "\n",
        "    resultado = convertir_area(valor, unidad_origen, unidad_destino)\n",
        "    print(f\"{valor} {unidad_origen} son {resultado} {unidad_destino}\")\n",
        "\n",
        "except ValueError as e:\n",
        "    print(f\"Error: {e}\")"
      ],
      "metadata": {
        "colab": {
          "base_uri": "https://localhost:8080/"
        },
        "id": "LAOTfXjMmLGf",
        "outputId": "9b656494-af2f-498c-c09b-55ae8e7c2188"
      },
      "execution_count": null,
      "outputs": [
        {
          "output_type": "stream",
          "name": "stdout",
          "text": [
            "Ingrese el valor a convertir: 490\n",
            "Ingrese la unidad de origen: metro cuadrado\n",
            "Ingrese la unidad de destino: pie cuadrado\n",
            "490.0 metro cuadrado son 5274.32 pie cuadrado\n"
          ]
        }
      ]
    },
    {
      "cell_type": "markdown",
      "source": [],
      "metadata": {
        "id": "e5jXIXFQz16Z"
      }
    },
    {
      "cell_type": "markdown",
      "source": [
        "5-Realizar un conversor propio, donde especifiqué el valor de conversión:"
      ],
      "metadata": {
        "id": "wJUC241VtZJB"
      }
    },
    {
      "cell_type": "code",
      "source": [
        "#Conversor propio de galletas Sponch\n",
        "\n",
        "def convertir_unidades_a_paquetes(unidades):\n",
        "    # Convierte unidades a paquetes de galletas Sponch\n",
        "    paquetes = unidades / 5\n",
        "    return paquetes\n",
        "\n",
        "def convertir_paquetes_a_unidades(paquetes):\n",
        "    # Convierte paquetes de galletas Sponch a unidades\n",
        "    unidades = paquetes * 5\n",
        "    return unidades\n",
        "\n",
        "def main():\n",
        "    print(\"Conversor de unidades a cajas y paquetes de galletas Sponch\")\n",
        "    while True:\n",
        "        print(\"\\nOpciones:\")\n",
        "        print(\"1. Convertir unidades a paquetes de galletas Sponch\")\n",
        "        print(\"2. Convertir paquetes de galletas Sponch a unidades\")\n",
        "        print(\"3. Salir\")\n",
        "\n",
        "        opcion = input(\"Elige una opción (1-3): \")\n",
        "\n",
        "        if opcion == \"1\":\n",
        "            unidades = float(input(\"Ingresa la cantidad de unidades: \"))\n",
        "            print(f\"{unidades} unidades son equivalentes a {convertir_unidades_a_paquetes(unidades)} paquetes de galletas Sponch.\")\n",
        "\n",
        "        elif opcion == \"2\":\n",
        "            paquetes = float(input(\"Ingresa la cantidad de paquetes de galletas Sponch: \"))\n",
        "            print(f\"{paquetes} paquetes de galletas Sponch son equivalentes a {convertir_paquetes_a_unidades(paquetes)} unidades.\")\n",
        "\n",
        "        elif opcion == \"3\":\n",
        "            print(\"¡Hasta luego!\")\n",
        "            break\n",
        "\n",
        "        else:\n",
        "            print(\"Opción no válida. Inténtalo de nuevo.\")\n",
        "\n",
        "if __name__ == \"__main__\":\n",
        "    main()"
      ],
      "metadata": {
        "colab": {
          "base_uri": "https://localhost:8080/"
        },
        "id": "cbuN0-v6tvWo",
        "outputId": "33c98233-e106-4aa4-852d-fbdec0b35c02"
      },
      "execution_count": null,
      "outputs": [
        {
          "metadata": {
            "tags": null
          },
          "name": "stdout",
          "output_type": "stream",
          "text": [
            "Conversor de unidades a cajas y paquetes de galletas Sponch\n",
            "\n",
            "Opciones:\n",
            "1. Convertir unidades a paquetes de galletas Sponch\n",
            "2. Convertir paquetes de galletas Sponch a unidades\n",
            "3. Salir\n",
            "5.0 paquetes de galletas Sponch son equivalentes a 25.0 unidades.\n",
            "\n",
            "Opciones:\n",
            "1. Convertir unidades a paquetes de galletas Sponch\n",
            "2. Convertir paquetes de galletas Sponch a unidades\n",
            "3. Salir\n"
          ]
        }
      ]
    },
    {
      "cell_type": "markdown",
      "source": [
        "Tarea adicional para miercoles\n",
        "\n",
        "1- Encontrar de una serie de numeros introducidos por el usuario la varianza\n",
        "\n",
        "2- Encontrar la frecuencia de una serie de numeros introducidos por el usuario, tabla de numero\n",
        "\n",
        "3- Escriba un programa que determine si una palabra introducida por el usuario es palindrome.\n",
        "\n"
      ],
      "metadata": {
        "id": "mKnyrQRU0ILU"
      }
    },
    {
      "cell_type": "code",
      "source": [
        "#Media aritmetica\n",
        "import math\n",
        "import numpy as np\n",
        "\n",
        "class estadistica:\n",
        "  def calcular_media(self, serie): #Calcula la media aritmetica\n",
        "    suma=0\n",
        "    for num in serie:\n",
        "      suma += num\n",
        "    return suma/len(serie)\n",
        "\n",
        "  def calcular_tipica(self, serie): # Calcula la desviacion tipica\n",
        "    media= self.calcular_media(serie)\n",
        "    suma=0\n",
        "    for num in serie:\n",
        "      suma+= (num-media)**2\n",
        "    return math.sqrt(suma/len(serie))\n",
        "\n",
        "  def calcular_frecuencia(self, serie): #calcula la frecuencia\n",
        "    frecuencia={}\n",
        "    for num in serie:\n",
        "      if num in frecuencia:\n",
        "        frecuencia[num]+1\n",
        "      else:\n",
        "          frecuencia[num]=1\n",
        "      return frecuencia\n",
        "\n",
        "  def calcular_varianza(self, serie): #calcula la varianza\n",
        "    varianza=0\n",
        "    varianza= np.var(serie)\n",
        "    return varianza\n",
        "\n",
        "\n",
        "n= int(input(\"Cuantos numeros a recorrer: \"))\n",
        "serie =[]\n",
        "for num in range(1, n+1):\n",
        "  serie.append(int(input(\"Numero: \")))\n",
        "\n",
        "obj_estadistica = estadistica()\n",
        "print(\"La media aritmetica es: \", obj_estadistica.calcular_media(serie))\n",
        "\n",
        "print(\"La desviacion tipica es: \", obj_estadistica.calcular_tipica(serie))\n",
        "\n",
        "#print(\"La desviacion tipica es: \", round(obj_estadistica.calcular_tipica(serie)))\n",
        "\n",
        "print(\"La varianza es: \", obj_estadistica.calcular_varianza(serie) )\n",
        "\n",
        "print(\"La frecuencia es: \", obj_estadistica.calcular_frecuencia(serie))\n"
      ],
      "metadata": {
        "id": "PaBOfWhtsjM6"
      },
      "execution_count": null,
      "outputs": []
    },
    {
      "cell_type": "code",
      "source": [
        "#Escribir que un programa determine si una palabra es palindrome\n",
        "\n",
        "class Palindrome:\n",
        "  def determinar_palindrome(self, palabra):\n",
        "    return palabra == palabra[::-1]\n",
        "\n",
        "obj_palindrome = Palindrome()\n",
        "palabra = input(\"Ingrese una palabra:\")\n",
        "if obj_palindrome.determinar_palindrome(palabra):\n",
        "  print(\"Es palindrome\")\n",
        "else:\n",
        "  print(\"No es palindrome\")"
      ],
      "metadata": {
        "colab": {
          "base_uri": "https://localhost:8080/"
        },
        "id": "KWUr2uqmzEV0",
        "outputId": "eed5cd76-de7a-4a19-fea9-052eac9fef94"
      },
      "execution_count": null,
      "outputs": [
        {
          "output_type": "stream",
          "name": "stdout",
          "text": [
            "Ingrese una palabra:reconocer\n",
            "Es palindrome\n"
          ]
        }
      ]
    }
  ]
}