{
  "nbformat": 4,
  "nbformat_minor": 0,
  "metadata": {
    "colab": {
      "provenance": [],
      "authorship_tag": "ABX9TyMmtH8ulXWAwpWB27YunANv",
      "include_colab_link": true
    },
    "kernelspec": {
      "name": "python3",
      "display_name": "Python 3"
    },
    "language_info": {
      "name": "python"
    }
  },
  "cells": [
    {
      "cell_type": "markdown",
      "metadata": {
        "id": "view-in-github",
        "colab_type": "text"
      },
      "source": [
        "<a href=\"https://colab.research.google.com/github/YaritzaEscobar/PrograIII_2024_semi/blob/main/Parcial1.ipynb\" target=\"_parent\"><img src=\"https://colab.research.google.com/assets/colab-badge.svg\" alt=\"Open In Colab\"/></a>"
      ]
    },
    {
      "cell_type": "markdown",
      "source": [
        "2. Desarrolle el conversor de Área (Superficie) haciendo uso de los\n",
        "diccionarios y las funciones de usuario en Python que contenga las\n",
        "siguientes opciones: (30%)"
      ],
      "metadata": {
        "id": "jV97UL2LKCpO"
      }
    },
    {
      "cell_type": "code",
      "source": [
        "#Area\n",
        "import re\n",
        "def convertir_area(valor, unidad_origen, unidad_destino):\n",
        "    unidades_de_area = {\n",
        "        'manzanas': 1,\n",
        "        'tareas': 16,\n",
        "        'metro cuadrado': 7000,\n",
        "        'vara cuadrada': 10000,\n",
        "        'yarda cuadrada':  8371.93,\n",
        "        'hectareas': 0.70,\n",
        "        'pie cuadrado': 75347.37\n",
        "    }\n",
        "\n",
        "    try:\n",
        "        tasa_origen_a_destino = unidades_de_area[unidad_destino] / unidades_de_area[unidad_origen]\n",
        "        resultado = valor * tasa_origen_a_destino\n",
        "        return round(resultado, 2)\n",
        "    except KeyError:\n",
        "        raise ValueError(\"Unidad de origen o destino no reconocida.\")\n",
        "\n",
        "def es_flotante(valor):\n",
        "    try:\n",
        "        float(valor)\n",
        "        return True\n",
        "    except ValueError:\n",
        "        return False\n",
        "\n",
        "def es_alfabetico(texto):\n",
        "    return bool(re.match(\"^[a-zA-Z\\s]+$\", texto))\n",
        "\n",
        "try:\n",
        "    # Validación del valor como número flotante\n",
        "    valor_input = input(\"Ingrese el valor a convertir: \")\n",
        "    if not es_flotante(valor_input):\n",
        "        raise ValueError(\"Debe ingresar un número válido.\")\n",
        "    valor = float(valor_input)\n",
        "\n",
        "    # Validación de las unidades como texto sin números\n",
        "    unidad_origen = input(\"Ingrese la unidad de origen: \").strip().lower()\n",
        "    if not es_alfabetico(unidad_origen):\n",
        "        raise ValueError(\"La unidad de origen debe contener solo letras.\")\n",
        "\n",
        "    unidad_destino = input(\"Ingrese la unidad de destino: \").strip().lower()\n",
        "    if not es_alfabetico(unidad_destino):\n",
        "        raise ValueError(\"La unidad de destino debe contener solo letras.\")\n",
        "\n",
        "    resultado = convertir_area(valor, unidad_origen, unidad_destino)\n",
        "    print(f\"{valor} {unidad_origen} son {resultado} {unidad_destino}\")\n",
        "\n",
        "except ValueError as e:\n",
        "    print(f\"Error: {e}\")"
      ],
      "metadata": {
        "id": "N1FW8vNOKE8r",
        "colab": {
          "base_uri": "https://localhost:8080/"
        },
        "outputId": "d33244b6-c01c-4a23-c0b4-d84cf800ec72"
      },
      "execution_count": null,
      "outputs": [
        {
          "name": "stdout",
          "output_type": "stream",
          "text": [
            "Ingrese el valor a convertir: 10\n",
            "Ingrese la unidad de origen: pies\n",
            "Ingrese la unidad de destino: h\n"
          ]
        }
      ]
    },
    {
      "cell_type": "markdown",
      "source": [
        "3. Desarrolle un programa en Python que simule a un cajero automático.\n",
        "Haga uso de las estructuras de control. (30%)\n",
        " Eje. Ingrese la cantidad a retirar: 199.89\n",
        "9 billetes de a 20\n",
        "1 billete de a 10\n",
        "1 billete de a 5\n",
        "4 billetes de a 1.\n",
        "3 monedas de 0.25 ctvs.\n",
        "1 moneda de 0. 1 ctvs.\n",
        "4 monedas de 0.01 ctvs."
      ],
      "metadata": {
        "id": "qp3ZL3giM0h9"
      }
    },
    {
      "cell_type": "code",
      "source": [
        "print(\"-\"*16, \"CAJERO AUTOMATICO\", \"-\"*16)\n",
        "\n",
        "class CajeroAutomatico:\n",
        "    def _init_(self):\n",
        "        self.usuarios = {\n",
        "            'usuario1': {'pin': '1234', 'saldo': 2000}\n",
        "        }\n",
        "        self.usuario_actual = None\n",
        "        self.billetes_y_monedas = {\n",
        "            9: 20,\n",
        "            1: 10,\n",
        "            1: 5,\n",
        "            4: 1,\n",
        "            3: 0.25,\n",
        "            1: 0.1,\n",
        "            4: 0.01\n",
        "        }\n",
        "\n",
        "    def iniciar_sesion(self, usuario, pin):\n",
        "        if usuario in self.usuarios and self.usuarios[usuario]['pin'] == pin:\n",
        "            self.usuario_actual = usuario\n",
        "            print(f\"Bienvenido, {usuario}!\")\n",
        "        else:\n",
        "            print(\"Usuario o PIN incorrecto.\")\n",
        "\n",
        "    def consultar_saldo(self):\n",
        "        if self.usuario_actual:\n",
        "            saldo = self.usuarios[self.usuario_actual]['saldo']\n",
        "            print(f\"Su saldo actual es: ${saldo}\")\n",
        "        else:\n",
        "            print(\"Por favor, inicie sesión primero.\")\n",
        "\n",
        "    def depositar(self, cantidad):\n",
        "        if self.usuario_actual:\n",
        "            self.usuarios[self.usuario_actual]['saldo'] += cantidad\n",
        "            print(f\"Ha depositado ${cantidad}. Su nuevo saldo es: ${self.usuarios[self.usuario_actual]['saldo']}.\")\n",
        "        else:\n",
        "            print(\"Por favor, inicie sesión primero.\")\n",
        "\n",
        "    def retirar(self, cantidad):\n",
        "        if self.usuario_actual:\n",
        "            saldo = self.usuarios[self.usuario_actual]['saldo']\n",
        "            if cantidad <= saldo:\n",
        "                if cantidad % 0.05 != 0:\n",
        "                    print(\"La cantidad a retirar debe ser múltiplo de 0.05.\")\n",
        "                    return\n",
        "\n",
        "                if cantidad > self.usuarios[self.usuario_actual]['saldo']:\n",
        "                    print(\"Fondos insuficientes.\")\n",
        "                    return\n",
        "\n",
        "                # Restar el monto del saldo del usuario\n",
        "                self.usuarios[self.usuario_actual]['saldo'] -= cantidad\n",
        "\n",
        "                # Desglosar la cantidad en billetes y monedas\n",
        "                resultado = self.desglosar_cantidad(cantidad)\n",
        "\n",
        "                print(f\"Ha retirado ${cantidad}. Detalle de la entrega:\")\n",
        "                for denominacion, cantidad in resultado.items():\n",
        "                    print(f\"{cantidad} {'billete(s)' if denominacion >= 1 else 'moneda(s)'} de ${denominacion:.2f}\")\n",
        "\n",
        "            else:\n",
        "                print(\"Fondos insuficientes.\")\n",
        "        else:\n",
        "            print(\"Por favor, inicie sesión primero.\")\n",
        "\n",
        "    def desglosar_cantidad(self, cantidad):\n",
        "        resultado = {}\n",
        "        restante = cantidad\n",
        "\n",
        "        # Desglosar en billetes de mayor denominación primero\n",
        "        for denominacion in sorted(self.billetes_y_monedas.keys(), reverse=True):\n",
        "            if restante <= 0:\n",
        "                break\n",
        "            if denominacion <= restante:\n",
        "                cantidad_billetes = min(int(restante // denominacion), self.billetes_y_monedas[denominacion])\n",
        "                if cantidad_billetes > 0:\n",
        "                    resultado[denominacion] = cantidad_billetes\n",
        "                    restante -= cantidad_billetes * denominacion\n",
        "                    self.billetes_y_monedas[denominacion] -= cantidad_billetes\n",
        "\n",
        "        return resultado\n",
        "\n",
        "def main():\n",
        "    cajero = CajeroAutomatico()\n",
        "\n",
        "    while True:\n",
        "        print(\"\\nOpciones:\")\n",
        "        print(\"1. Iniciar sesión\")\n",
        "        print(\"2. Consultar saldo\")\n",
        "        print(\"3. Depositar saldo\")\n",
        "        print(\"4. Retirar saldo\")\n",
        "        print(\"5. Salir\")\n",
        "\n",
        "        opcion = input(\"Elige una opción (1-5): \")\n",
        "\n",
        "        if opcion == \"1\":\n",
        "            usuario = input(\"Ingrese su nombre de usuario: \")\n",
        "            pin = input(\"Ingrese su PIN: \")\n",
        "            cajero.iniciar_sesion(usuario, pin)\n",
        "\n",
        "        elif opcion == \"2\":\n",
        "            cajero.consultar_saldo()\n",
        "\n",
        "        elif opcion == \"3\":\n",
        "            cantidad = float(input(\"Ingrese la cantidad a depositar: \"))\n",
        "            cajero.depositar(cantidad)\n",
        "\n",
        "        elif opcion == \"4\":\n",
        "            cantidad = float(input(\"Ingrese la cantidad a retirar: \"))\n",
        "            cajero.retirar(cantidad)\n",
        "\n",
        "        elif opcion == \"5\":\n",
        "            print(\"¡¡¡Terminamos!!!\")\n",
        "            break\n",
        "\n",
        "        else:\n",
        "            print(\"Opción no válida. Intente con 1-5.\")\n",
        "\n",
        "if _name_ == \"_main_\":\n",
        "    main()"
      ],
      "metadata": {
        "colab": {
          "base_uri": "https://localhost:8080/",
          "height": 211
        },
        "id": "21xGQjAjZyG5",
        "outputId": "8733e26b-3821-48ff-a86b-ca6a1246e704"
      },
      "execution_count": 21,
      "outputs": [
        {
          "output_type": "stream",
          "name": "stdout",
          "text": [
            "---------------- CAJERO AUTOMATICO ----------------\n"
          ]
        },
        {
          "output_type": "error",
          "ename": "NameError",
          "evalue": "name '_name_' is not defined",
          "traceback": [
            "\u001b[0;31m---------------------------------------------------------------------------\u001b[0m",
            "\u001b[0;31mNameError\u001b[0m                                 Traceback (most recent call last)",
            "\u001b[0;32m<ipython-input-21-232461ab41e2>\u001b[0m in \u001b[0;36m<cell line: 120>\u001b[0;34m()\u001b[0m\n\u001b[1;32m    118\u001b[0m             \u001b[0mprint\u001b[0m\u001b[0;34m(\u001b[0m\u001b[0;34m\"Opción no válida. Intente con 1-5.\"\u001b[0m\u001b[0;34m)\u001b[0m\u001b[0;34m\u001b[0m\u001b[0;34m\u001b[0m\u001b[0m\n\u001b[1;32m    119\u001b[0m \u001b[0;34m\u001b[0m\u001b[0m\n\u001b[0;32m--> 120\u001b[0;31m \u001b[0;32mif\u001b[0m \u001b[0m_name_\u001b[0m \u001b[0;34m==\u001b[0m \u001b[0;34m\"_main_\"\u001b[0m\u001b[0;34m:\u001b[0m\u001b[0;34m\u001b[0m\u001b[0;34m\u001b[0m\u001b[0m\n\u001b[0m\u001b[1;32m    121\u001b[0m     \u001b[0mmain\u001b[0m\u001b[0;34m(\u001b[0m\u001b[0;34m)\u001b[0m\u001b[0;34m\u001b[0m\u001b[0;34m\u001b[0m\u001b[0m\n",
            "\u001b[0;31mNameError\u001b[0m: name '_name_' is not defined"
          ]
        }
      ]
    }
  ]
}