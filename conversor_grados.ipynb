{
  "nbformat": 4,
  "nbformat_minor": 0,
  "metadata": {
    "colab": {
      "provenance": [],
      "toc_visible": true,
      "authorship_tag": "ABX9TyPLSPatX1Cc4lUO1l56Jibp",
      "include_colab_link": true
    },
    "kernelspec": {
      "name": "python3",
      "display_name": "Python 3"
    },
    "language_info": {
      "name": "python"
    }
  },
  "cells": [
    {
      "cell_type": "markdown",
      "metadata": {
        "id": "view-in-github",
        "colab_type": "text"
      },
      "source": [
        "<a href=\"https://colab.research.google.com/github/YaritzaEscobar/PrograIII_2024_semi/blob/main/conversor_grados.ipynb\" target=\"_parent\"><img src=\"https://colab.research.google.com/assets/colab-badge.svg\" alt=\"Open In Colab\"/></a>"
      ]
    },
    {
      "cell_type": "code",
      "source": [
        "#farenheit a celsius\n",
        "\n",
        "def farenheit_a_celsius(farenheit):\n",
        "  celsius = (farenheit - 32) * 5/9\n",
        "  return celsius\n",
        "farenheit = float(input(\"Introduzca la temperatura en grados Farenheit:\"))\n",
        "celsius = farenheit_a_celsius(farenheit)\n",
        "print(\"La temperatura en grados Celsius es:\", celsius)\n",
        "\n",
        "\n",
        "\n"
      ],
      "metadata": {
        "colab": {
          "base_uri": "https://localhost:8080/"
        },
        "id": "mjioWlc0SA3a",
        "outputId": "207e9593-25ff-45dc-90d7-5d38d9dc0e66"
      },
      "execution_count": null,
      "outputs": [
        {
          "output_type": "stream",
          "name": "stdout",
          "text": [
            "Introduzca la temperatura en grados Farenheit:100.4\n",
            "La temperatura en grados Celsius es: 38.0\n"
          ]
        }
      ]
    },
    {
      "cell_type": "code",
      "source": [
        "#celsius a kelvin\n",
        "\n",
        "def celsius_a_kelvin(celsius):\n",
        "  return celsius + 273.15\n",
        "\n",
        "celsius = float(input(\"Introduzca la temperatura en grados Celsius:\"))\n",
        "kelvin = celsius_a_kelvin(celsius)\n",
        "print(\"La temperatura en grados Kelvin es:\", kelvin)\n",
        "\n",
        "\n",
        "#farenheit a kelvin\n",
        "\n",
        "def farenheit_a_kelvin(farenheit):\n",
        "    return (farenheit - 32) / 1.8 + 273.15\n",
        "\n",
        "farenheit = float(input(\"Introduzca la temperatura en grados Farenheit:\"))\n",
        "kelvin = farenheit_a_kelvin(farenheit)\n",
        "print(\"La temperatura en grados Kelvin es:\", kelvin)"
      ],
      "metadata": {
        "colab": {
          "base_uri": "https://localhost:8080/"
        },
        "id": "dSY_MU9jW0Oh",
        "outputId": "bda18802-6a07-40d2-fc08-fc0e5869c53d"
      },
      "execution_count": null,
      "outputs": [
        {
          "output_type": "stream",
          "name": "stdout",
          "text": [
            "Introduzca la temperatura en grados Celsius:60\n",
            "La temperatura en grados Kelvin es: 333.15\n",
            "Introduzca la temperatura en grados Farenheit:60\n",
            "La temperatura en grados Kelvin es: 288.7055555555555\n"
          ]
        }
      ]
    }
  ]
}